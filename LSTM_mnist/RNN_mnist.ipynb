{
 "cells": [
  {
   "cell_type": "code",
   "execution_count": 1,
   "metadata": {},
   "outputs": [
    {
     "name": "stdout",
     "output_type": "stream",
     "text": [
      "Extracting /tmp/data/train-images-idx3-ubyte.gz\n",
      "Extracting /tmp/data/train-labels-idx1-ubyte.gz\n",
      "Extracting /tmp/data/t10k-images-idx3-ubyte.gz\n",
      "Extracting /tmp/data/t10k-labels-idx1-ubyte.gz\n"
     ]
    }
   ],
   "source": [
    "import tensorflow as tf\n",
    "from tensorflow.examples.tutorials.mnist import input_data\n",
    "from tensorflow.contrib import rnn\n",
    "mnist = input_data.read_data_sets(\"/tmp/data\", one_hot=True)"
   ]
  },
  {
   "cell_type": "code",
   "execution_count": 8,
   "metadata": {},
   "outputs": [],
   "source": [
    "num_epochs = 10\n",
    "num_classes = 10\n",
    "batch_size = 128\n",
    "\n",
    "# Size for each sequence and number of seeq\n",
    "chunk_size = 28\n",
    "num_chunks = 28\n",
    "rnn_size = 128\n",
    "\n",
    "# Init\n",
    "X = tf.placeholder('float', [None, num_chunks, chunk_size])\n",
    "y = tf.placeholder('float')"
   ]
  },
  {
   "cell_type": "code",
   "execution_count": 9,
   "metadata": {},
   "outputs": [],
   "source": [
    "def RNN(X):\n",
    "    hy = {'weights': tf.Variable(tf.random_normal([rnn_size, num_classes])),\n",
    "           'biases': tf.Variable(tf.random_normal([num_classes]))}\n",
    "    X = tf.transpose(X, [1, 0, 2])\n",
    "    X = tf.reshape(X, [-1, chunk_size])\n",
    "    X = tf.split(X, num_chunks, 0)\n",
    "    \n",
    "    lstm_cell = rnn.BasicLSTMCell(rnn_size) \n",
    "    outputs, states = rnn.static_rnn(lstm_cell, X, dtype=tf.float32)\n",
    "    \n",
    "    # outputs[-1] is the most recent hidden state\n",
    "    output = tf.matmul(outputs[-1],hy['weights'] + hy['biases'])\n",
    "    \n",
    "    return output"
   ]
  },
  {
   "cell_type": "code",
   "execution_count": 16,
   "metadata": {},
   "outputs": [],
   "source": [
    "def train_RNN(X):\n",
    "    pred = RNN(X)\n",
    "    loss = tf.reduce_mean(tf.nn.softmax_cross_entropy_with_logits(labels=y, logits=pred))\n",
    "    optimizer = tf.train.AdamOptimizer().minimize(loss)\n",
    "    \n",
    "    with tf.Session() as sess:\n",
    "        sess.run(tf.initialize_all_variables())\n",
    "        \n",
    "        for epoch in range(num_epochs):\n",
    "            epoch_loss = 0\n",
    "            for _ in range(int(mnist.train.num_examples/batch_size)):\n",
    "                epoch_X, epoch_y = mnist.train.next_batch(batch_size)\n",
    "                epoch_X = epoch_X.reshape((batch_size, num_chunks, chunk_size))\n",
    "                _, c = sess.run([optimizer, loss], feed_dict={X: epoch_X, y: epoch_y })\n",
    "                epoch_loss += c\n",
    "                \n",
    "            print(\"{} epochs completed out of {}\".format(epoch+1, num_epochs))\n",
    "            correct = tf.equal(tf.argmax(pred, 1), tf.argmax(y,1))\n",
    "            \n",
    "            accuracy = tf.reduce_mean(tf.cast(correct, 'float'))\n",
    "            \n",
    "            print('Accuracy: ',accuracy.eval({X:mnist.test.images.reshape((-1, num_chunks, chunk_size)), y:mnist.test.labels}))"
   ]
  },
  {
   "cell_type": "code",
   "execution_count": 17,
   "metadata": {},
   "outputs": [
    {
     "name": "stdout",
     "output_type": "stream",
     "text": [
      "WARNING:tensorflow:From /usr/local/lib/python3.6/site-packages/tensorflow/python/util/tf_should_use.py:175: initialize_all_variables (from tensorflow.python.ops.variables) is deprecated and will be removed after 2017-03-02.\n",
      "Instructions for updating:\n",
      "Use `tf.global_variables_initializer` instead.\n",
      "0 epochs completed out of 10\n",
      "Accuracy:  0.9498\n",
      "1 epochs completed out of 10\n",
      "Accuracy:  0.9645\n",
      "2 epochs completed out of 10\n",
      "Accuracy:  0.977\n",
      "3 epochs completed out of 10\n",
      "Accuracy:  0.9801\n",
      "4 epochs completed out of 10\n",
      "Accuracy:  0.981\n",
      "5 epochs completed out of 10\n",
      "Accuracy:  0.9825\n",
      "6 epochs completed out of 10\n",
      "Accuracy:  0.9816\n",
      "7 epochs completed out of 10\n",
      "Accuracy:  0.983\n",
      "8 epochs completed out of 10\n",
      "Accuracy:  0.9853\n",
      "9 epochs completed out of 10\n",
      "Accuracy:  0.9847\n"
     ]
    }
   ],
   "source": [
    "tf.reset_default_graph()\n",
    "# Init\n",
    "X = tf.placeholder('float', [None, num_chunks, chunk_size])\n",
    "y = tf.placeholder('float')\n",
    "train_RNN(X)"
   ]
  },
  {
   "cell_type": "code",
   "execution_count": null,
   "metadata": {},
   "outputs": [],
   "source": []
  }
 ],
 "metadata": {
  "kernelspec": {
   "display_name": "Python 3",
   "language": "python",
   "name": "python3"
  },
  "language_info": {
   "codemirror_mode": {
    "name": "ipython",
    "version": 3
   },
   "file_extension": ".py",
   "mimetype": "text/x-python",
   "name": "python",
   "nbconvert_exporter": "python",
   "pygments_lexer": "ipython3",
   "version": "3.6.2"
  }
 },
 "nbformat": 4,
 "nbformat_minor": 2
}
