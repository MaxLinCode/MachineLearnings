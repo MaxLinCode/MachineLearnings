{
 "cells": [
  {
   "cell_type": "code",
   "execution_count": 1,
   "metadata": {},
   "outputs": [],
   "source": [
    "# From:  https://quirkyai.wordpress.com/2017/06/07/text-generation-in-lines-with-lstm-rnn-in-python-tensorflow/"
   ]
  },
  {
   "cell_type": "code",
   "execution_count": null,
   "metadata": {},
   "outputs": [
    {
     "name": "stdout",
     "output_type": "stream",
     "text": [
      "Training Step: 2100  | total loss: \u001b[1m\u001b[32m2.62971\u001b[0m\u001b[0m | time: 1184.251s\n",
      "\u001b[2K\r",
      "| Adam | epoch: 001 | loss: 2.62971 -- iter: 268800/561733\n"
     ]
    }
   ],
   "source": [
    "import numpy as np, tflearn, sys, tensorflow as tf\n",
    "from tensorflow.contrib.keras.python.keras.utils import np_utils\n",
    "input = open(\"sherlock.txt\").read().lower()\n",
    "chars = sorted(list(set(input)))\n",
    "charint = dict((char,ints) for ints, char in enumerate(chars))\n",
    "intchar = dict((ints,char) for ints, char in enumerate(chars))\n",
    "filename = 'sherlockLSTM_model'\n",
    "seqlen = 100\n",
    "lstmhid = 320\n",
    "keeprate = 0.80\n",
    "train = []\n",
    "true = []\n",
    "tf.reset_default_graph()\n",
    "for i in range(0, len(input)-seqlen, 1):\n",
    "    train.append([charint[char] for char in input[i:i+seqlen]])\n",
    "    true.append(charint[input[i+seqlen]])\n",
    "X = np.reshape(train, (len(train), seqlen, 1))/float(len(chars))\n",
    "y = np_utils.to_categorical(true)\n",
    "net = tflearn.input_data(shape=(None, X.shape[1], X.shape[2]))\n",
    "net = tflearn.lstm(net, lstmhid)\n",
    "net = tflearn.fully_connected(net, y.shape[1], activation='softmax')\n",
    "net = tflearn.regression(net, optimizer='adam', learning_rate=0.005, loss ='categorical_crossentropy')\n",
    "model = tflearn.DNN(net, checkpoint_path = 'charmodel/model.tfl.ckpt')\n",
    "model.fit(X, y, snapshot_epoch=True,\n",
    "snapshot_step=5000, n_epoch=20, batch_size = 128)\n",
    "model.save(filename)"
   ]
  },
  {
   "cell_type": "code",
   "execution_count": null,
   "metadata": {},
   "outputs": [],
   "source": [
    "for _ in range(5):\n",
    "    p = train[np.random.randint(0,len(train)-1)]\n",
    "    print(\"Seed:\")\n",
    "    print(\"\\\"\",''.join([intchar[value] for value in p]), \"\\\"\")\n",
    "    for _ in range(100):\n",
    "        sys.stdout.write((intchar[np.argmax(model.predict((np.reshape(p, (1, len(p), 1))/float(len(chars)))))]))\n",
    "        p.append(np.argmax(model.predict((np.reshape(p, (1, len(p), 1))/float(len(chars))))))\n",
    "        p = p[1:len(p)]\n",
    "        print(\"\\n============================\\n\")"
   ]
  },
  {
   "cell_type": "code",
   "execution_count": null,
   "metadata": {},
   "outputs": [],
   "source": []
  }
 ],
 "metadata": {
  "kernelspec": {
   "display_name": "Python 3",
   "language": "python",
   "name": "python3"
  },
  "language_info": {
   "codemirror_mode": {
    "name": "ipython",
    "version": 3
   },
   "file_extension": ".py",
   "mimetype": "text/x-python",
   "name": "python",
   "nbconvert_exporter": "python",
   "pygments_lexer": "ipython3",
   "version": "3.6.2"
  }
 },
 "nbformat": 4,
 "nbformat_minor": 2
}
