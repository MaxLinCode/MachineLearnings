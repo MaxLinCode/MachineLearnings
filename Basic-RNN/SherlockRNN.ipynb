{
 "cells": [
  {
   "cell_type": "code",
   "execution_count": 1,
   "metadata": {},
   "outputs": [],
   "source": [
    "import numpy as np"
   ]
  },
  {
   "cell_type": "code",
   "execution_count": 16,
   "metadata": {},
   "outputs": [
    {
     "name": "stdout",
     "output_type": "stream",
     "text": [
      "Data has 54 letters, 3 unique letters\n"
     ]
    }
   ],
   "source": [
    "data = open('sherlock.txt', 'r').read()\n",
    "chars = list(set(data))\n",
    "chars = sorted(chars)\n",
    "data_size = len(data)\n",
    "vocab_size = len(chars)\n",
    "print('Data has {} letters, {} unique letters'.format(data_size, vocab_size))"
   ]
  },
  {
   "cell_type": "code",
   "execution_count": 17,
   "metadata": {},
   "outputs": [
    {
     "name": "stdout",
     "output_type": "stream",
     "text": [
      "{'1': 0, '2': 1, '3': 2}\n"
     ]
    }
   ],
   "source": [
    "# Dictionary to encode chars to ints\n",
    "char_to_int = {ch:i for i, ch in enumerate(chars)}\n",
    "int_to_char = {i:ch for i, ch in enumerate(chars)}\n",
    "print(char_to_int)"
   ]
  },
  {
   "cell_type": "code",
   "execution_count": 20,
   "metadata": {},
   "outputs": [
    {
     "name": "stdout",
     "output_type": "stream",
     "text": [
      "[ 1.  0.  0.]\n"
     ]
    }
   ],
   "source": [
    "# One hot encoding\n",
    "char_vec_onehot = np.zeros((vocab_size,1))\n",
    "char_vec_onehot[char_to_int['1']] = 1\n",
    "print(char_vec_onehot.ravel())"
   ]
  },
  {
   "cell_type": "code",
   "execution_count": 19,
   "metadata": {},
   "outputs": [],
   "source": [
    "# Hyperparameters\n",
    "hidden_size = 300\n",
    "seq_length = 28\n",
    "learning_rate = 0.15\n",
    "\n",
    "# Model Parameters\n",
    "Wxh = np.random.randn(hidden_size, vocab_size) * 0.01\n",
    "Whh = np.random.randn(hidden_size, hidden_size) * 0.01\n",
    "Why = np.random.randn(vocab_size, hidden_size) * 0.01\n",
    "\n",
    "h_bias = np.ones((hidden_size, 1))\n",
    "y_bias = np.ones((vocab_size, 1))"
   ]
  },
  {
   "cell_type": "markdown",
   "metadata": {},
   "source": [
    "# Training"
   ]
  },
  {
   "cell_type": "code",
   "execution_count": null,
   "metadata": {},
   "outputs": [],
   "source": [
    "def lossFun(inputs, targets, hprev):\n",
    "    xs, hs, ys, ps = {}, {}, {}, {}\n",
    "    hs[-1] = np.copy(hprev)\n",
    "    loss = 0\n",
    "    \n",
    "    # Forward Pass\n",
    "    for t in range(len(inputs)):\n",
    "        # Encode as one hot\n",
    "        xs[t] = np.zeros((vocab_size,1))\n",
    "        xs[t][inputs[t]] = 1\n",
    "        hs[t] = np.tanh(np.dot(Wxh, xs[t]) + np.dot(Whh, hs[t-1]) + h_bias)\n",
    "        ys[t] = np.dot(Why, hs[t]) + y_bias # Unnormalized log probabilites for next char\n",
    "        ps[t] = np.exp(ys[t])/np.sum(np.exp(ys[t]))\n",
    "        loss += -np.log(ps[t][targets[t],0]) # Softmax\n",
    "    \n",
    "    # Backward Pass\n",
    "    dWxh, dWhh, dWhy = np.zeros_like(Wxh), np.zeros_like(Whh), np.zeros_like(Why)\n",
    "    dbh, dby = np.zeros_like(h_bias), np.zeros_like(y_bias)\n",
    "    dhnext = np.zeros_like(hs[0])\n",
    "    for t in reversed(range(len(inputs))):\n",
    "        dy = np.copy(ps[t])\n",
    "        dy[targets[t]] -= 1\n",
    "        # My way -(ti - yi)\n",
    "        dWhy += np.dot(dy, hs[t].T)\n",
    "        dby += dy\n",
    "        dh = np.dot(Why.T, dy) + dhnext\n",
    "        dz = (1 - hs[t] * hs[t]) * dh\n",
    "        dbh += dz\n",
    "        dWxh += np.dot(dz, xs[t].T)\n",
    "        dWhh += np.dot(dz, hs[t-1].T)\n",
    "        dhnext = np.dot(Whh.T, dz)\n",
    "    for dparam in [dWxh, dWhh, dWhy, dbh, dby]:\n",
    "        np.clip(dparam, -5, 5, out=dparam)    # Clip to mitigate exploding gradient\n",
    "        \n",
    "    return loss, dWxh, dWhh, dWhy, dbh, dby, hs[len(inputs)-1]"
   ]
  },
  {
   "cell_type": "code",
   "execution_count": 21,
   "metadata": {
    "scrolled": true
   },
   "outputs": [
    {
     "name": "stdout",
     "output_type": "stream",
     "text": [
      "Iter: 0, loss 30.761140967083826\n",
      "12333332332132322231212211332223213122223133121131222211111332331333223221212323132322113211223112133233311123131332232331221323311311323213123332232321231331111133221332121313311332323211113112121122\n",
      "\n",
      "\n",
      "Iter: 1000, loss 34.34189089863277\n",
      "21313232233133313331322111222322311131331333131332311311123121223211333211321323133222323112332121131133212232123323213121222222331322321112232123313321131332231213332121132113321323133321113221211212\n",
      "\n",
      "\n",
      "Iter: 2000, loss 30.60410749769578\n",
      "32113311312121322313311212322311321313112113211233231321321211232311133221313121232111321113312122213121332121221212121131133123232211223321231223312333111233212332233233112221222133212221112312321232\n",
      "\n",
      "\n",
      "Iter: 3000, loss 29.228137593540087\n",
      "23232113333132323322113222321133322231312132213122223323211222322122131212122122211222112221212232122223321111222312313222332322231331132212331321122311231321112223221332112333233131233121131231333222\n",
      "\n",
      "\n",
      "Iter: 4000, loss 28.693198319841837\n",
      "32211221323333122233131311311232221322222123133233313132233123213121212211312322311311232112221112221212333312212121311133131222112231211222312231133331211322221332221132131211131231122331123321121112\n",
      "\n",
      "\n",
      "Iter: 5000, loss 28.499350753877266\n",
      "21123322131131233222211211311123211221211232311231212113231212111121112223223111311231121112212222332311213123313333333312133233313232133123222331223311122122211212111313222313321231221323313323113111\n",
      "\n",
      "\n",
      "Iter: 6000, loss 28.424510383180017\n",
      "21133313213133223111123332322113312211133322233231113321211111332211221321221211232332121121122313222111211311223111322332311312131321312133213122331311233121221331112112321313221132233131133122211312\n",
      "\n",
      "\n",
      "Iter: 7000, loss 28.40061666950616\n",
      "22133332121121133333221232223311231233232322211121331332221221211331213312223121312231331311311221331132111212133333232311311313322221222233331233322121233311232312211312121111223323211333323221331313\n",
      "\n",
      "\n",
      "Iter: 8000, loss 28.402999669621302\n",
      "23322231132113132121213231323123122212123311122122213111322212213122211221131132123123221112312112123312331312221121231223113122123332311313123311213321221113132131111331133223333323221311231132222322\n",
      "\n",
      "\n",
      "Iter: 9000, loss 28.4102143881143\n",
      "21212321123132111112321113332232221332332123313111111322121311232221211123112322321131121212232123221122222212232112331223213121213212113222321233111213211231122132232311312133313311322132231323212233\n",
      "\n",
      "\n"
     ]
    },
    {
     "ename": "KeyboardInterrupt",
     "evalue": "",
     "output_type": "error",
     "traceback": [
      "\u001b[0;31m---------------------------------------------------------------------------\u001b[0m",
      "\u001b[0;31mKeyboardInterrupt\u001b[0m                         Traceback (most recent call last)",
      "\u001b[0;32m<ipython-input-21-92dd98f60837>\u001b[0m in \u001b[0;36m<module>\u001b[0;34m()\u001b[0m\n\u001b[1;32m     12\u001b[0m     \u001b[0mtargets\u001b[0m \u001b[0;34m=\u001b[0m \u001b[0;34m[\u001b[0m\u001b[0mchar_to_int\u001b[0m\u001b[0;34m[\u001b[0m\u001b[0mch\u001b[0m\u001b[0;34m]\u001b[0m \u001b[0;32mfor\u001b[0m \u001b[0mch\u001b[0m \u001b[0;32min\u001b[0m \u001b[0mdata\u001b[0m\u001b[0;34m[\u001b[0m\u001b[0mp\u001b[0m\u001b[0;34m+\u001b[0m\u001b[0;36m1\u001b[0m\u001b[0;34m:\u001b[0m\u001b[0mp\u001b[0m\u001b[0;34m+\u001b[0m\u001b[0;36m1\u001b[0m\u001b[0;34m+\u001b[0m\u001b[0mseq_length\u001b[0m\u001b[0;34m]\u001b[0m\u001b[0;34m]\u001b[0m\u001b[0;34m\u001b[0m\u001b[0m\n\u001b[1;32m     13\u001b[0m \u001b[0;34m\u001b[0m\u001b[0m\n\u001b[0;32m---> 14\u001b[0;31m     \u001b[0mloss\u001b[0m\u001b[0;34m,\u001b[0m \u001b[0mdWxh\u001b[0m\u001b[0;34m,\u001b[0m \u001b[0mdWhh\u001b[0m\u001b[0;34m,\u001b[0m \u001b[0mdWhy\u001b[0m\u001b[0;34m,\u001b[0m \u001b[0mdbh\u001b[0m\u001b[0;34m,\u001b[0m \u001b[0mdby\u001b[0m\u001b[0;34m,\u001b[0m \u001b[0mhprev\u001b[0m \u001b[0;34m=\u001b[0m \u001b[0mlossFun\u001b[0m\u001b[0;34m(\u001b[0m\u001b[0minputs\u001b[0m\u001b[0;34m,\u001b[0m \u001b[0mtargets\u001b[0m\u001b[0;34m,\u001b[0m \u001b[0mhprev\u001b[0m\u001b[0;34m)\u001b[0m\u001b[0;34m\u001b[0m\u001b[0m\n\u001b[0m\u001b[1;32m     15\u001b[0m     \u001b[0msmooth_loss\u001b[0m \u001b[0;34m=\u001b[0m \u001b[0msmooth_loss\u001b[0m \u001b[0;34m*\u001b[0m \u001b[0;36m0.999\u001b[0m \u001b[0;34m+\u001b[0m \u001b[0mloss\u001b[0m \u001b[0;34m*\u001b[0m \u001b[0;36m0.001\u001b[0m\u001b[0;34m\u001b[0m\u001b[0m\n\u001b[1;32m     16\u001b[0m \u001b[0;34m\u001b[0m\u001b[0m\n",
      "\u001b[0;32m<ipython-input-6-904496d51223>\u001b[0m in \u001b[0;36mlossFun\u001b[0;34m(inputs, targets, hprev)\u001b[0m\n\u001b[1;32m     28\u001b[0m         \u001b[0mdbh\u001b[0m \u001b[0;34m+=\u001b[0m \u001b[0mdz\u001b[0m\u001b[0;34m\u001b[0m\u001b[0m\n\u001b[1;32m     29\u001b[0m         \u001b[0mdWxh\u001b[0m \u001b[0;34m+=\u001b[0m \u001b[0mnp\u001b[0m\u001b[0;34m.\u001b[0m\u001b[0mdot\u001b[0m\u001b[0;34m(\u001b[0m\u001b[0mdz\u001b[0m\u001b[0;34m,\u001b[0m \u001b[0mxs\u001b[0m\u001b[0;34m[\u001b[0m\u001b[0mt\u001b[0m\u001b[0;34m]\u001b[0m\u001b[0;34m.\u001b[0m\u001b[0mT\u001b[0m\u001b[0;34m)\u001b[0m\u001b[0;34m\u001b[0m\u001b[0m\n\u001b[0;32m---> 30\u001b[0;31m         \u001b[0mdWhh\u001b[0m \u001b[0;34m+=\u001b[0m \u001b[0mnp\u001b[0m\u001b[0;34m.\u001b[0m\u001b[0mdot\u001b[0m\u001b[0;34m(\u001b[0m\u001b[0mdz\u001b[0m\u001b[0;34m,\u001b[0m \u001b[0mhs\u001b[0m\u001b[0;34m[\u001b[0m\u001b[0mt\u001b[0m\u001b[0;34m-\u001b[0m\u001b[0;36m1\u001b[0m\u001b[0;34m]\u001b[0m\u001b[0;34m.\u001b[0m\u001b[0mT\u001b[0m\u001b[0;34m)\u001b[0m\u001b[0;34m\u001b[0m\u001b[0m\n\u001b[0m\u001b[1;32m     31\u001b[0m         \u001b[0mdhnext\u001b[0m \u001b[0;34m=\u001b[0m \u001b[0mnp\u001b[0m\u001b[0;34m.\u001b[0m\u001b[0mdot\u001b[0m\u001b[0;34m(\u001b[0m\u001b[0mWhh\u001b[0m\u001b[0;34m.\u001b[0m\u001b[0mT\u001b[0m\u001b[0;34m,\u001b[0m \u001b[0mdz\u001b[0m\u001b[0;34m)\u001b[0m\u001b[0;34m\u001b[0m\u001b[0m\n\u001b[1;32m     32\u001b[0m     \u001b[0;32mfor\u001b[0m \u001b[0mdparam\u001b[0m \u001b[0;32min\u001b[0m \u001b[0;34m[\u001b[0m\u001b[0mdWxh\u001b[0m\u001b[0;34m,\u001b[0m \u001b[0mdWhh\u001b[0m\u001b[0;34m,\u001b[0m \u001b[0mdWhy\u001b[0m\u001b[0;34m,\u001b[0m \u001b[0mdbh\u001b[0m\u001b[0;34m,\u001b[0m \u001b[0mdby\u001b[0m\u001b[0;34m]\u001b[0m\u001b[0;34m:\u001b[0m\u001b[0;34m\u001b[0m\u001b[0m\n",
      "\u001b[0;31mKeyboardInterrupt\u001b[0m: "
     ]
    }
   ],
   "source": [
    "iters = 0\n",
    "p = 0\n",
    "mWxh, mWhh, mWhy = np.zeros_like(Wxh), np.zeros_like(Whh), np.zeros_like(Why)\n",
    "mbh, mby = np.zeros_like(h_bias), np.zeros_like(y_bias)\n",
    "smooth_loss = -np.log(1.0/vocab_size) * seq_length\n",
    "while iters < 100000:\n",
    "    if p+1+ seq_length > len(data) or iters == 0:\n",
    "        hprev = np.zeros((hidden_size, 1))        # Clear RNN hidden state\n",
    "        p = 0                                     # Start at the beginning of data\n",
    "        \n",
    "    inputs = [char_to_int[ch] for ch in data[p:p+seq_length]]\n",
    "    targets = [char_to_int[ch] for ch in data[p+1:p+1+seq_length]]\n",
    "    \n",
    "    loss, dWxh, dWhh, dWhy, dbh, dby, hprev = lossFun(inputs, targets, hprev)\n",
    "    smooth_loss = smooth_loss * 0.999 + loss * 0.001\n",
    "    \n",
    "    # Print samples at different training intervals\n",
    "    if iters % 1000 == 0:\n",
    "        print('Iter: {}, loss {}'.format(iters, smooth_loss))\n",
    "        sampleSentence(hprev, inputs[0], 200)\n",
    "        print('\\n')\n",
    "        \n",
    "    # Adagrad Update\n",
    "    for param, dparam, mem in zip ([Wxh, Whh, Why, h_bias, y_bias],\n",
    "                                   [dWxh, dWhh, dWhy, dbh, dby],\n",
    "                                   [mWxh, mWhh, mWhy, mbh, mby]):\n",
    "        mem += dparam * dparam\n",
    "        param += -learning_rate * dparam / np.sqrt(mem + 1e-8)\n",
    "      \n",
    "    # Move onto next batch of data\n",
    "    p += seq_length\n",
    "    iters += 1"
   ]
  },
  {
   "cell_type": "markdown",
   "metadata": {},
   "source": [
    "## Generating a Sentence"
   ]
  },
  {
   "cell_type": "code",
   "execution_count": 8,
   "metadata": {},
   "outputs": [
    {
     "name": "stdout",
     "output_type": "stream",
     "text": [
      "(éM(ZIITZcbd&5Mq.WTylPwrahtqFMPLBJV0\"8WU.ulkWih4D7BeRYHm:-0ZRjB2Zig&.ijrWHw3BbKS3.-m5)pT\"YrIKkNf1:5me:L!y\"cOx.IJé 8zM(OlW?inOQh-fé\n",
      "PRuFQNzK))&2lé)DCl!V8\"gezD-1\n",
      "pLwv4:Jjb) ObbsZIIry2ts\n",
      "DJévLAG8R&WDrlwI\n"
     ]
    }
   ],
   "source": [
    "# h: the initial hidden state\n",
    "# Seed_char_int: the seed character for the sequence (char encoded as int)\n",
    "# n: desired sequence length\n",
    "def sampleSentence(h, seed_char_int, n):\n",
    "    x = np.zeros((vocab_size, 1))\n",
    "    x[seed_char_int] = 1\n",
    "    \n",
    "    genList = []\n",
    "    \n",
    "    for t in range(n):\n",
    "        h = np.tanh(np.dot(Wxh, x) + np.dot(Whh, h) + h_bias)\n",
    "        y = np.dot(Why, h) + y_bias # Unnormalized log probabilites for next char\n",
    "        p = np.exp(y)/np.sum(np.exp(y))\n",
    "        \n",
    "        sampleChar = np.random.choice(range(vocab_size), p=p.ravel())\n",
    "        x = np.zeros((vocab_size, 1))\n",
    "        x[sampleChar] = 1\n",
    "        genList.append(sampleChar)\n",
    "        \n",
    "    out_txt = ''.join(int_to_char[ix] for ix in genList)\n",
    "    \n",
    "    print(out_txt)\n",
    "\n",
    "# Run sample\n",
    "hprev = np.zeros((hidden_size, 1))\n",
    "sampleSentence(hprev, char_to_int['a'], 200)"
   ]
  },
  {
   "cell_type": "code",
   "execution_count": null,
   "metadata": {},
   "outputs": [],
   "source": []
  }
 ],
 "metadata": {
  "kernelspec": {
   "display_name": "Python 3",
   "language": "python",
   "name": "python3"
  },
  "language_info": {
   "codemirror_mode": {
    "name": "ipython",
    "version": 3
   },
   "file_extension": ".py",
   "mimetype": "text/x-python",
   "name": "python",
   "nbconvert_exporter": "python",
   "pygments_lexer": "ipython3",
   "version": "3.6.2"
  }
 },
 "nbformat": 4,
 "nbformat_minor": 2
}
